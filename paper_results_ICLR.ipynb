{
 "cells": [
  {
   "cell_type": "code",
   "execution_count": 1,
   "metadata": {},
   "outputs": [],
   "source": [
    "from codes.data_loader import load_data\n",
    "from codes.alg import tpr_parity_opt\n",
    "from codes.metrics import fairness_visibility, accuracy, group_fairness\n",
    "import numpy as np"
   ]
  },
  {
   "cell_type": "code",
   "execution_count": 2,
   "metadata": {},
   "outputs": [],
   "source": [
    "def generat_result(h,y,prt_group, W):\n",
    "    acc = accuracy(h,y)\n",
    "    tpg ,_,_,_ = group_fairness(y, h, prt_group, return_gap = True)\n",
    "    fv0, fv1, _, =fairness_visibility(W ,y, h, prt_group, output= True)\n",
    "    print(\"   Accuracy: {:.4f} | TPR Disparity: {:.4f} | Visibility group 0: {:.4f} | Visibility group 1: {:.4f}\".format(acc, tpg, fv0, fv1))\n",
    "    return acc, tpg, fv0, fv1\n",
    "    "
   ]
  },
  {
   "cell_type": "code",
   "execution_count": null,
   "metadata": {},
   "outputs": [
    {
     "name": "stdout",
     "output_type": "stream",
     "text": [
      "year 2017\n",
      "Orginal Decisions(Top univeristies):\n",
      "   Accuracy: 0.8238 | TPR Disparity: 0.0325 | Visibility group 0: 0.5586 | Visibility group 1: 0.6612\n",
      "Proposed method(Top univeristies):\n",
      "   Accuracy: 0.9221 | TPR Disparity: 0.0008 | Visibility group 0: 0.6839 | Visibility group 1: 0.7686\n",
      "Orginal Decisions(Famous authors)\n",
      "   Accuracy: 0.8238 | TPR Disparity: 0.0392 | Visibility group 0: 0.5445 | Visibility group 1: 0.7264\n",
      "Proposed method(Famous authors):\n",
      "   Accuracy: 0.9221 | TPR Disparity: 0.0258 | Visibility group 0: 0.6387 | Visibility group 1: 0.8774\n",
      "\n",
      "year 2018\n",
      "Orginal Decisions(Top univeristies):\n",
      "   Accuracy: 0.7910 | TPR Disparity: 0.0199 | Visibility group 0: 0.6000 | Visibility group 1: 0.6818\n",
      "Proposed method(Top univeristies):\n",
      "   Accuracy: 0.9005 | TPR Disparity: 0.0053 | Visibility group 0: 0.7000 | Visibility group 1: 0.7273\n",
      "Orginal Decisions(Famous authors)\n",
      "   Accuracy: 0.7910 | TPR Disparity: 0.0473 | Visibility group 0: 0.6126 | Visibility group 1: 0.6957\n",
      "Proposed method(Famous authors):\n",
      "   Accuracy: 0.9005 | TPR Disparity: 0.0064 | Visibility group 0: 0.6967 | Visibility group 1: 0.8116\n",
      "\n",
      "year 2019\n",
      "Orginal Decisions(Top univeristies):\n",
      "   Accuracy: 0.8978 | TPR Disparity: 0.0358 | Visibility group 0: 0.5236 | Visibility group 1: 0.6021\n",
      "Proposed method(Top univeristies):\n",
      "   Accuracy: 0.9725 | TPR Disparity: 0.0014 | Visibility group 0: 0.6548 | Visibility group 1: 0.7775\n",
      "Orginal Decisions(Famous authors)\n",
      "   Accuracy: 0.8978 | TPR Disparity: 0.0630 | Visibility group 0: 0.5326 | Visibility group 1: 0.6165\n",
      "Proposed method(Famous authors):\n",
      "   Accuracy: 0.9725 | TPR Disparity: 0.0034 | Visibility group 0: 0.6521 | Visibility group 1: 0.9417\n",
      "\n",
      "year 2020\n",
      "Orginal Decisions(Top univeristies):\n",
      "   Accuracy: 0.9028 | TPR Disparity: 0.0944 | Visibility group 0: 0.5174 | Visibility group 1: 0.5236\n",
      "Proposed method(Top univeristies):\n",
      "   Accuracy: 0.9914 | TPR Disparity: 0.0022 | Visibility group 0: 0.8078 | Visibility group 1: 0.9197\n"
     ]
    }
   ],
   "source": [
    "model_f = list()\n",
    "model_t = list()\n",
    "original_f = list()\n",
    "original_t = list()\n",
    "for year in [2017, 2018, 2019,2020]:\n",
    "    adj, y, h_c , prt_f, prt_t, W = load_data( year = year)\n",
    "    print('year',year)\n",
    "    h = tpr_parity_opt(W,y,h_c,prt_t)\n",
    "    print('Orginal Decisions(Top univeristies):')\n",
    "    original_t.append(generat_result(h_c,y,prt_t, W))\n",
    "    print('Proposed method(Top univeristies):')\n",
    "    model_t.append(generat_result(h,y,prt_t, W))\n",
    "    h = tpr_parity_opt(W,y,h_c,prt_f)\n",
    "    print('Orginal Decisions(Famous authors)')\n",
    "    original_f.append(generat_result(h_c,y,prt_f, W))\n",
    "    print('Proposed method(Famous authors):')\n",
    "    model_f.append(generat_result(h,y,prt_f, W))\n",
    "    print()"
   ]
  },
  {
   "cell_type": "code",
   "execution_count": null,
   "metadata": {},
   "outputs": [],
   "source": [
    "from matplotlib import pyplot as plt\n",
    "idx = 1\n",
    "f, ax = plt.subplots(figsize=(6, 4))\n",
    "plt.plot([original_t[i][idx] for i in range(4)], '-o', label ='Conference original decisions',  color='orange')\n",
    "\n",
    "ax.plot([model_t[i][idx] for i in range(4)], '-x', label= 'Proposed method recommendation',  color='blue')\n",
    "plt.xticks(range(4),['2017', '2018', '2019','2020'], fontsize= 14)\n",
    "\n",
    "plt.ylabel('TPR disparity', fontsize= 14)\n",
    "\n",
    "\n",
    "\n",
    "plt.legend(fontsize= 12)\n",
    "plt.tight_layout()\n",
    "#plt.savefig('./figs/tpr_disparity_top.png')"
   ]
  },
  {
   "cell_type": "code",
   "execution_count": null,
   "metadata": {},
   "outputs": [],
   "source": [
    "idx = 1\n",
    "f, ax = plt.subplots(figsize=(6, 4))\n",
    "plt.plot([original_f[i][idx] for i in range(4)], '-o', label ='Conference original decisions',  color='orange')\n",
    "\n",
    "ax.plot([model_f[i][idx] for i in range(4)], '-x', label= 'Proposed method recommendation',  color='blue')\n",
    "plt.xticks(range(4),['2017', '2018', '2019','2020'], fontsize= 14)\n",
    "\n",
    "plt.ylabel('TPR disparity', fontsize= 14)\n",
    "\n",
    "#plt.title('TPR disparity')\n",
    "\n",
    "plt.legend(fontsize= 12)\n",
    "plt.tight_layout()"
   ]
  },
  {
   "cell_type": "code",
   "execution_count": null,
   "metadata": {},
   "outputs": [],
   "source": [
    "idx =2\n",
    "X = np.arange(4)\n",
    "fig = plt.figure()\n",
    "ax = fig.add_axes([0,0,1.2,1.2])\n",
    "ax.bar(X-0.20 , [original_t[i][idx] for i in range(4)], width = 0.10, label= 'Non-top(original)')\n",
    "ax.bar(X-0.07, [model_t[i][idx] for i in range(4)],  width = 0.10, label= 'Non-top(recommended)')\n",
    "idx = 3\n",
    "ax.bar(X +0.07, [original_t[i][idx] for i in range(4)],  width = 0.10, label= 'Top(original)')\n",
    "ax.bar(X +0.20, [model_t[i][idx] for i in range(4)],  width = 0.10, label= 'Top(recommended)')\n",
    "plt.ylabel('Fairness visibility', fontsize= 14)\n",
    "#ax.bar(X + 0.50, data[2], color = 'r', width = 0.25)\n",
    "plt.xticks([x for x in range(4)],['2017', '2018', '2019','2020'], fontsize= 14)\n",
    "plt.legend(fontsize= 12)"
   ]
  },
  {
   "cell_type": "code",
   "execution_count": null,
   "metadata": {},
   "outputs": [],
   "source": [
    "idx =2\n",
    "X = np.arange(4)\n",
    "fig = plt.figure()\n",
    "ax = fig.add_axes([0,0,1.2,1.2])\n",
    "ax.bar(X-0.20 , [original_f[i][idx] for i in range(4)], width = 0.10, label= 'Non-famous(original)')\n",
    "ax.bar(X-0.07, [model_f[i][idx] for i in range(4)],  width = 0.10, label= 'Non-famous(recommended)')\n",
    "idx = 3\n",
    "ax.bar(X +0.07, [original_f[i][idx] for i in range(4)],  width = 0.10, label= 'Famous(original)')\n",
    "ax.bar(X +0.20, [model_f[i][idx] for i in range(4)],  width = 0.10, label= 'Famous(recommended)')\n",
    "plt.ylabel('Fairness visibility', fontsize= 14)\n",
    "#ax.bar(X + 0.50, data[2], color = 'r', width = 0.25)\n",
    "plt.xticks([x for x in range(4)],['2017', '2018', '2019','2020'], fontsize= 14)\n",
    "plt.legend(fontsize= 12)"
   ]
  },
  {
   "cell_type": "code",
   "execution_count": null,
   "metadata": {},
   "outputs": [],
   "source": []
  }
 ],
 "metadata": {
  "kernelspec": {
   "display_name": "Python 3",
   "language": "python",
   "name": "python3"
  },
  "language_info": {
   "codemirror_mode": {
    "name": "ipython",
    "version": 3
   },
   "file_extension": ".py",
   "mimetype": "text/x-python",
   "name": "python",
   "nbconvert_exporter": "python",
   "pygments_lexer": "ipython3",
   "version": "3.7.6"
  }
 },
 "nbformat": 4,
 "nbformat_minor": 4
}
